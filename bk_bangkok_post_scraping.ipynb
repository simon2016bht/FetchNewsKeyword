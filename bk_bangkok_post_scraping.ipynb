{
 "cells": [
  {
   "cell_type": "code",
   "execution_count": 1,
   "metadata": {},
   "outputs": [],
   "source": [
    "import requests\n",
    "from bs4 import BeautifulSoup\n",
    "from datetime import datetime\n",
    "import pandas as pd\n",
    "import re\n",
    "from datetime import date\n",
    "import os.path\n"
   ]
  },
  {
   "cell_type": "code",
   "execution_count": 2,
   "metadata": {},
   "outputs": [],
   "source": [
    "# process articles on topstories\n",
    "page = requests.get('https://www.bangkokpost.com/topstories') \n",
    "soup = BeautifulSoup(page.content, 'html.parser')\n",
    "\n",
    "# get articles in the page\n",
    "entries = soup.find_all(class_='listnews-row') "
   ]
  },
  {
   "cell_type": "code",
   "execution_count": 3,
   "metadata": {},
   "outputs": [
    {
     "data": {
      "text/plain": [
       "'Battle to nourish young minds'"
      ]
     },
     "execution_count": 3,
     "metadata": {},
     "output_type": "execute_result"
    }
   ],
   "source": [
    "# test get a title\n",
    "entries[1].find_all('h3')[0].find_all('a')[0].get_text()"
   ]
  },
  {
   "cell_type": "code",
   "execution_count": 4,
   "metadata": {},
   "outputs": [
    {
     "data": {
      "text/plain": [
       "'https://www.bangkokpost.com/thailand/general/1827919/battle-to-nourish-young-minds'"
      ]
     },
     "execution_count": 4,
     "metadata": {},
     "output_type": "execute_result"
    }
   ],
   "source": [
    "# test get a link\n",
    "link_prefix='https://www.bangkokpost.com'\n",
    "link_suffix=entries[1].find_all('h3')[0].find_all('a')[0]['href']\n",
    "link = link_prefix + link_suffix\n",
    "link"
   ]
  },
  {
   "cell_type": "code",
   "execution_count": 5,
   "metadata": {},
   "outputs": [],
   "source": [
    "# get all links and titles\n",
    "links = []\n",
    "titles = []\n",
    "link_prefix='https://www.bangkokpost.com'\n",
    "\n",
    "\n",
    "for entry in entries:\n",
    "    title = entry.find_all('h3')[0].find_all('a')[0].get_text()\n",
    "    titles.append(title)\n",
    "    \n",
    "    link_suffix=entry.find_all('h3')[0].find_all('a')[0]['href']\n",
    "    link = link_prefix + link_suffix\n",
    "    if re.search('learning',link):\n",
    "        link=''\n",
    "    links.append(link)\n",
    "#     title = link.find_all('a')[0].get('title')\n",
    "#     pagelinks.append('https://www.bangkokpost.com' + url)\n",
    "    \n",
    "\n",
    "# for entry in entries:\n",
    "# #     url = link.find_all('a')[0].get('href')\n",
    "#     title = entry.find_all('h3')[0].find_all('a')[0].get_text()\n",
    "# #     title = link.find_all('a')[0].get('title')\n",
    "# #     pagelinks.append('https://www.bangkokpost.com' + url)\n",
    "#     titles.append(title)\n",
    "    \n",
    "# for link in weblinks[2:]:\n",
    "#     url = link.get('href')\n",
    "# #     title = link.get('title')    \n",
    "#     pagelinks.append('https://www.bangkokpost.com' + url)\n",
    "# #     titles.append(title)\n",
    "# titles"
   ]
  },
  {
   "cell_type": "code",
   "execution_count": 6,
   "metadata": {},
   "outputs": [
    {
     "data": {
      "text/plain": [
       "False"
      ]
     },
     "execution_count": 6,
     "metadata": {},
     "output_type": "execute_result"
    }
   ],
   "source": [
    "# links[1]\n",
    "# links[1]==''"
   ]
  },
  {
   "cell_type": "code",
   "execution_count": 7,
   "metadata": {},
   "outputs": [
    {
     "name": "stdout",
     "output_type": "stream",
     "text": [
      "https://www.bangkokpost.com/business/1827689/baht-weakens-post-new-year-holiday\n",
      "https://www.bangkokpost.com/thailand/general/1827919/battle-to-nourish-young-minds\n",
      "https://www.bangkokpost.com/thailand/general/1827649/thais-sought-for-jobs-abroad\n",
      "https://www.bangkokpost.com/thailand/politics/1827634/prayut-plays-down-censure-offensive\n",
      "https://www.bangkokpost.com/business/1828079/busy-year-ushers-in-brave-new-decade\n",
      "https://www.bangkokpost.com/thailand/general/1827859/a-look-ahead-to-bangkok-in-2020\n",
      "https://www.bangkokpost.com/thailand/politics/1827599/fate-of-govt-hangs-on-economy\n",
      "https://www.bangkokpost.com/thailand/general/1827444/supreme-court-to-rule-on-sorrayuth-case-on-jan-21\n",
      "https://www.bangkokpost.com/thailand/general/1827429/new-year-death-toll-317-drink-driving-major-cause\n",
      "https://www.bangkokpost.com/business/1827324/us-mulls-listing-thailand-as-currency-manipulator\n",
      "https://www.bangkokpost.com/business/1827284/excise-eyes-levy-on-non-alcoholic-beer\n",
      "https://www.bangkokpost.com/business/1827334/freighted-with-ominous-signs\n",
      "https://www.bangkokpost.com/thailand/general/1827274/paying-respects-to-sailors-a-century-later\n",
      "https://www.bangkokpost.com/thailand/general/1827309/exorcising-little-ghosts\n",
      "https://www.bangkokpost.com/thailand/general/1827019/seasonal-death-toll-shrinks-drink-driving-major-cause\n",
      "https://www.bangkokpost.com/thailand/politics/1827009/discontent-fires-up-apirat\n",
      "https://www.bangkokpost.com/thailand/general/1826969/provinces-warned-to-brace-for-severe-drought\n",
      "https://www.bangkokpost.com/world/1826904/fireworks-smoke-and-tear-gas-start-new-decade\n",
      "https://www.bangkokpost.com/thailand/general/1826889/road-deaths-rise-to-256-after-5-days-of-new-year-holiday-travel\n",
      "https://www.bangkokpost.com/thailand/general/1826649/anti-plastic-campaign-starts-to-hit-home\n"
     ]
    }
   ],
   "source": [
    "# get text contents of news, \n",
    "texts = []\n",
    "\n",
    "for link in links:\n",
    "    text = ''\n",
    "    print(link)\n",
    "    # skip learning articles\n",
    "    if not link =='':\n",
    "        page = requests.get(link) \n",
    "        soup = BeautifulSoup(page.content, 'html.parser')\n",
    "        article =soup.find_all(class_='articl-content')[0].find_all('p')\n",
    "        \n",
    "        for paragraph in article:\n",
    "            text = text  + paragraph.get_text() +' \\n\\n '\n",
    "        \n",
    "    texts.append(text)"
   ]
  },
  {
   "cell_type": "code",
   "execution_count": 50,
   "metadata": {},
   "outputs": [
    {
     "name": "stdout",
     "output_type": "stream",
     "text": [
      "new file created from new week.\n"
     ]
    }
   ],
   "source": [
    "# set filename\n",
    "WeekNumber = date.today().isocalendar()[1]\n",
    "Filename = 'W'+f\"{WeekNumber:0>2}\"  + '_' + 'Record.xlsx'\n",
    "\n",
    "\n",
    "# read existing file\n",
    "if  os.path.isfile(Filename):\n",
    "    oldnews = pd.read_excel(Filename)\n",
    "    print(\"read existing file\")\n",
    "\n",
    "else:\n",
    "    print(\"new file created from new week.\")\n",
    "\n",
    "\n",
    "# create dataframe with the recent news\n",
    "recent_news = pd.DataFrame({'Title':titles, 'Link':links, 'Content':texts,'Date':datetime.now()})\n",
    "\n",
    "# append news to the existing file\n",
    "combine_news = oldnews.append(recent_news)\n",
    "\n",
    "# drop duplicate and reset index\n",
    "combine_news.drop_duplicates(subset='Title', keep='last', inplace=True)\n",
    "combine_news.reset_index(inplace=True)\n",
    "combine_news.drop(labels='index', axis=1, inplace=True)\n",
    "\n",
    "combine_news\n",
    "\n",
    "\n",
    "\n",
    "writer = pd.ExcelWriter(Filename)\n",
    "news.to_excel(writer, wks_name, index=False)\n",
    "writer.save()"
   ]
  },
  {
   "cell_type": "code",
   "execution_count": 137,
   "metadata": {},
   "outputs": [],
   "source": [
    "\n",
    "\n",
    "# oldnews = pd.read_excel('quartz\\\\news.xlsx')\n",
    "# news = pd.DataFrame(data=data)\n",
    "# cols = ['Title', 'Author', 'PageLink', 'Article', 'Date']\n",
    "# news = news[cols]\n",
    "\n",
    "# afronews = oldnews.append(news)\n",
    "# afronews.drop_duplicates(subset='Title', keep='last', inplace=True)\n",
    "# afronews.reset_index(inplace=True)\n",
    "# afronews.drop(labels='index', axis=1, inplace=True)\n",
    "\n",
    "# filename = 'quartz\\\\news.xlsx'\n",
    "# wks_name = 'Data'\n",
    "\n",
    "# writer = pd.ExcelWriter(filename)\n",
    "# afronews.to_excel(writer, wks_name, index=False)\n",
    "\n",
    "# writer.save()"
   ]
  },
  {
   "cell_type": "code",
   "execution_count": null,
   "metadata": {},
   "outputs": [],
   "source": []
  },
  {
   "cell_type": "code",
   "execution_count": null,
   "metadata": {},
   "outputs": [],
   "source": []
  },
  {
   "cell_type": "code",
   "execution_count": null,
   "metadata": {},
   "outputs": [],
   "source": []
  },
  {
   "cell_type": "markdown",
   "metadata": {},
   "source": [
    "## END"
   ]
  }
 ],
 "metadata": {
  "kernelspec": {
   "display_name": "Python 3",
   "language": "python",
   "name": "python3"
  },
  "language_info": {
   "codemirror_mode": {
    "name": "ipython",
    "version": 3
   },
   "file_extension": ".py",
   "mimetype": "text/x-python",
   "name": "python",
   "nbconvert_exporter": "python",
   "pygments_lexer": "ipython3",
   "version": "3.8.0"
  }
 },
 "nbformat": 4,
 "nbformat_minor": 4
}
