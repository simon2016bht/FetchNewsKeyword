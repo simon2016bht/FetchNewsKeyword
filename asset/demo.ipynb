{
 "cells": [
  {
   "cell_type": "code",
   "execution_count": 1,
   "metadata": {},
   "outputs": [],
   "source": [
    "import requests\n",
    "from bs4 import BeautifulSoup\n",
    "from datetime import datetime\n"
   ]
  },
  {
   "cell_type": "code",
   "execution_count": 2,
   "metadata": {},
   "outputs": [
    {
     "data": {
      "text/plain": [
       "bs4.BeautifulSoup"
      ]
     },
     "execution_count": 2,
     "metadata": {},
     "output_type": "execute_result"
    }
   ],
   "source": [
    "page = requests.get('https://qz.com/africa/latest') \n",
    "soup = BeautifulSoup(page.content, 'html.parser')\n",
    "type(soup)"
   ]
  },
  {
   "cell_type": "code",
   "execution_count": 3,
   "metadata": {},
   "outputs": [],
   "source": [
    "weblinks = soup.find_all('article')\n",
    "pagelinks = []\n",
    "titles = []\n",
    "\n",
    "# weblinks[5].find_all('h3')[0].contents[0]\n",
    "\n",
    "for link in weblinks[5:]:    \n",
    "    url = link.contents[0].find_all('a')[0].get('href')\n",
    "    title = link.find_all('h3')[0].get_text()\n",
    "    \n",
    "    pagelinks.append('http://qz.com'+url)\n",
    "    titles.append(title)\n",
    "    "
   ]
  },
  {
   "cell_type": "code",
   "execution_count": 4,
   "metadata": {},
   "outputs": [
    {
     "data": {
      "text/plain": [
       "<div class=\"_435a3 context-list\"><a class=\"_5ff1a\" href=\"/africa/1720130/nigeria-elections-buhari-denies-third-term-bid/\"><figure class=\"_49659 size-medium\"><div class=\"_83471 _97ba0 visible\" style=\"padding-bottom:100%\"><img alt=\"\" class=\"\" decoding=\"async\" sizes=\"(min-width: 64em) 220px, (min-width: 48em) 150px, 125px\" src=\"https://cms.qz.com/wp-content/uploads/2019/10/RTX2PLBJ.jpg?quality=75&amp;strip=all&amp;w=125&amp;h=125&amp;crop=1\" srcset=\"https://cms.qz.com/wp-content/uploads/2019/10/RTX2PLBJ.jpg?quality=75&amp;strip=all&amp;w=125&amp;h=125&amp;crop=1 125w, https://cms.qz.com/wp-content/uploads/2019/10/RTX2PLBJ.jpg?quality=75&amp;strip=all&amp;w=150&amp;h=150&amp;crop=1 150w, https://cms.qz.com/wp-content/uploads/2019/10/RTX2PLBJ.jpg?quality=75&amp;strip=all&amp;w=250&amp;h=250&amp;crop=1 250w, https://cms.qz.com/wp-content/uploads/2019/10/RTX2PLBJ.jpg?quality=75&amp;strip=all&amp;w=300&amp;h=300&amp;crop=1 300w, https://cms.qz.com/wp-content/uploads/2019/10/RTX2PLBJ.jpg?quality=75&amp;strip=all&amp;w=440&amp;h=440&amp;crop=1 440w\"/><noscript><img alt=\"\" src=\"https://cms.qz.com/wp-content/uploads/2019/10/RTX2PLBJ.jpg?quality=75&amp;strip=all&amp;w=125&amp;h=125&amp;crop=1\"/></noscript></div></figure><div class=\"meta\"><div class=\"_4d056 quartz context-article\">SCHEMING</div><h3 class=\"_21349 f93ab\">The political calculus for Nigeria’s next presidential elections is kicking off three years early</h3><div class=\"_778ba\"><span class=\"_2f309\">Quartz Africa</span></div></div></a></div>"
      ]
     },
     "execution_count": 4,
     "metadata": {},
     "output_type": "execute_result"
    }
   ],
   "source": [
    "link = weblinks[5]\n",
    "link.contents[0]"
   ]
  },
  {
   "cell_type": "code",
   "execution_count": 5,
   "metadata": {},
   "outputs": [],
   "source": [
    "url = pagelinks[0]"
   ]
  },
  {
   "cell_type": "code",
   "execution_count": 6,
   "metadata": {},
   "outputs": [],
   "source": [
    "page = requests.get(url)"
   ]
  },
  {
   "cell_type": "code",
   "execution_count": 7,
   "metadata": {},
   "outputs": [],
   "source": [
    "soup = BeautifulSoup(page.text, 'html.parser')"
   ]
  },
  {
   "cell_type": "code",
   "execution_count": 8,
   "metadata": {},
   "outputs": [
    {
     "data": {
      "text/plain": [
       "<a class=\"\" href=\"/author/ykazeem/\">Yomi Kazeem</a>"
      ]
     },
     "execution_count": 8,
     "metadata": {},
     "output_type": "execute_result"
    }
   ],
   "source": [
    "soup.find(class_='_5e088').find('a')"
   ]
  },
  {
   "cell_type": "code",
   "execution_count": 9,
   "metadata": {},
   "outputs": [],
   "source": [
    "atitle = soup.find(class_=\"_21349 africa none _4ca8e\")"
   ]
  },
  {
   "cell_type": "code",
   "execution_count": null,
   "metadata": {},
   "outputs": [],
   "source": []
  },
  {
   "cell_type": "code",
   "execution_count": null,
   "metadata": {},
   "outputs": [],
   "source": []
  },
  {
   "cell_type": "code",
   "execution_count": 10,
   "metadata": {},
   "outputs": [
    {
     "ename": "AttributeError",
     "evalue": "'NoneType' object has no attribute 'get_text'",
     "output_type": "error",
     "traceback": [
      "\u001b[0;31m---------------------------------------------------------------------------\u001b[0m",
      "\u001b[0;31mAttributeError\u001b[0m                            Traceback (most recent call last)",
      "\u001b[0;32m<ipython-input-10-7165332fc7c0>\u001b[0m in \u001b[0;36m<module>\u001b[0;34m\u001b[0m\n\u001b[1;32m      1\u001b[0m \u001b[0;31m# get article title\u001b[0m\u001b[0;34m\u001b[0m\u001b[0;34m\u001b[0m\u001b[0;34m\u001b[0m\u001b[0m\n\u001b[0;32m----> 2\u001b[0;31m \u001b[0mthetitle\u001b[0m \u001b[0;34m=\u001b[0m \u001b[0matitle\u001b[0m\u001b[0;34m.\u001b[0m\u001b[0mget_text\u001b[0m\u001b[0;34m(\u001b[0m\u001b[0;34m)\u001b[0m\u001b[0;34m\u001b[0m\u001b[0;34m\u001b[0m\u001b[0m\n\u001b[0m\u001b[1;32m      3\u001b[0m \u001b[0;31m# get main article page\u001b[0m\u001b[0;34m\u001b[0m\u001b[0;34m\u001b[0m\u001b[0;34m\u001b[0m\u001b[0m\n\u001b[1;32m      4\u001b[0m \u001b[0marticlebody\u001b[0m \u001b[0;34m=\u001b[0m \u001b[0msoup\u001b[0m\u001b[0;34m.\u001b[0m\u001b[0mfind\u001b[0m\u001b[0;34m(\u001b[0m\u001b[0mclass_\u001b[0m\u001b[0;34m=\u001b[0m\u001b[0;34m'_61c55'\u001b[0m\u001b[0;34m)\u001b[0m\u001b[0;34m\u001b[0m\u001b[0;34m\u001b[0m\u001b[0m\n\u001b[1;32m      5\u001b[0m \u001b[0;31m# get text\u001b[0m\u001b[0;34m\u001b[0m\u001b[0;34m\u001b[0m\u001b[0;34m\u001b[0m\u001b[0m\n",
      "\u001b[0;31mAttributeError\u001b[0m: 'NoneType' object has no attribute 'get_text'"
     ]
    }
   ],
   "source": [
    "# get article title\n",
    "thetitle = atitle.get_text() \n",
    "# get main article page\n",
    "articlebody = soup.find(class_='_61c55')\n",
    "# get text\n",
    "articletext = soup.find_all('p')[8:]\n",
    "# print text\n",
    "for paragraph in articletext[:-1]:\n",
    "    # get the text only\n",
    "    text = paragraph.get_text()\n",
    "    paragraphtext.append(text)        \n",
    "# combine all paragraphs into an article\n",
    "thearticle.append(paragraphtext)\n",
    "authorname.append(aname)\n",
    "title.append(thetitle)"
   ]
  },
  {
   "cell_type": "code",
   "execution_count": null,
   "metadata": {},
   "outputs": [],
   "source": []
  },
  {
   "cell_type": "code",
   "execution_count": null,
   "metadata": {},
   "outputs": [],
   "source": []
  },
  {
   "cell_type": "code",
   "execution_count": null,
   "metadata": {},
   "outputs": [],
   "source": []
  },
  {
   "cell_type": "code",
   "execution_count": null,
   "metadata": {},
   "outputs": [],
   "source": []
  },
  {
   "cell_type": "code",
   "execution_count": null,
   "metadata": {},
   "outputs": [],
   "source": []
  },
  {
   "cell_type": "code",
   "execution_count": 11,
   "metadata": {},
   "outputs": [
    {
     "ename": "AttributeError",
     "evalue": "'NoneType' object has no attribute 'get_text'",
     "output_type": "error",
     "traceback": [
      "\u001b[0;31m---------------------------------------------------------------------------\u001b[0m",
      "\u001b[0;31mAttributeError\u001b[0m                            Traceback (most recent call last)",
      "\u001b[0;32m<ipython-input-11-97a4b6eff22a>\u001b[0m in \u001b[0;36m<module>\u001b[0;34m\u001b[0m\n\u001b[1;32m     23\u001b[0m     \u001b[0;31m# get article title\u001b[0m\u001b[0;34m\u001b[0m\u001b[0;34m\u001b[0m\u001b[0;34m\u001b[0m\u001b[0m\n\u001b[1;32m     24\u001b[0m     \u001b[0matitle\u001b[0m \u001b[0;34m=\u001b[0m \u001b[0msoup\u001b[0m\u001b[0;34m.\u001b[0m\u001b[0mfind\u001b[0m\u001b[0;34m(\u001b[0m\u001b[0mclass_\u001b[0m\u001b[0;34m=\u001b[0m\u001b[0;34m\"_21349 africa none _4ca8e\"\u001b[0m\u001b[0;34m)\u001b[0m\u001b[0;34m\u001b[0m\u001b[0;34m\u001b[0m\u001b[0m\n\u001b[0;32m---> 25\u001b[0;31m     \u001b[0mthetitle\u001b[0m \u001b[0;34m=\u001b[0m \u001b[0matitle\u001b[0m\u001b[0;34m.\u001b[0m\u001b[0mget_text\u001b[0m\u001b[0;34m(\u001b[0m\u001b[0;34m)\u001b[0m\u001b[0;34m\u001b[0m\u001b[0;34m\u001b[0m\u001b[0m\n\u001b[0m\u001b[1;32m     26\u001b[0m     \u001b[0;31m# get main article page\u001b[0m\u001b[0;34m\u001b[0m\u001b[0;34m\u001b[0m\u001b[0;34m\u001b[0m\u001b[0m\n\u001b[1;32m     27\u001b[0m     \u001b[0marticlebody\u001b[0m \u001b[0;34m=\u001b[0m \u001b[0msoup\u001b[0m\u001b[0;34m.\u001b[0m\u001b[0mfind\u001b[0m\u001b[0;34m(\u001b[0m\u001b[0mclass_\u001b[0m\u001b[0;34m=\u001b[0m\u001b[0;34m'_61c55'\u001b[0m\u001b[0;34m)\u001b[0m\u001b[0;34m\u001b[0m\u001b[0;34m\u001b[0m\u001b[0m\n",
      "\u001b[0;31mAttributeError\u001b[0m: 'NoneType' object has no attribute 'get_text'"
     ]
    }
   ],
   "source": [
    "authorname = []\n",
    "title = []\n",
    "thearticle = []\n",
    "for link in pagelinks:    \n",
    "    # store the text for each article\n",
    "    paragraphtext = []    \n",
    "    # get url\n",
    "    url = link\n",
    "    # get page text\n",
    "    page = requests.get(url)\n",
    "    # parse with BFS\n",
    "    soup = BeautifulSoup(page.text, 'html.parser')    \n",
    "    \n",
    "    # get author name, if there's a named author\n",
    "    try:\n",
    "#         abody = soup.find(class_='d3284 africa').find('a')\n",
    "        abody = soup.find(class_='_5e088').find('a')\n",
    "        aname = abody.get_text() \n",
    "    except:\n",
    "        aname = 'Anonymous'\n",
    "        \n",
    "\n",
    "    # get article title\n",
    "    atitle = soup.find(class_=\"_21349 africa none _4ca8e\")\n",
    "    thetitle = atitle.get_text() \n",
    "    # get main article page\n",
    "    articlebody = soup.find(class_='_61c55')\n",
    "    # get text\n",
    "    articletext = soup.find_all('p')[8:]\n",
    "    # print text\n",
    "    for paragraph in articletext[:-1]:\n",
    "        # get the text only\n",
    "        text = paragraph.get_text()\n",
    "        paragraphtext.append(text)        \n",
    "    # combine all paragraphs into an article\n",
    "    thearticle.append(paragraphtext)\n",
    "    authorname.append(aname)\n",
    "    title.append(thetitle)\n",
    "myarticle = [' '.join(article) for article in thearticle]"
   ]
  },
  {
   "cell_type": "code",
   "execution_count": 8,
   "metadata": {},
   "outputs": [
    {
     "ename": "NameError",
     "evalue": "name 'myarticle' is not defined",
     "output_type": "error",
     "traceback": [
      "\u001b[0;31m---------------------------------------------------------------------------\u001b[0m",
      "\u001b[0;31mNameError\u001b[0m                                 Traceback (most recent call last)",
      "\u001b[0;32m<ipython-input-8-b728d7a5f5d1>\u001b[0m in \u001b[0;36m<module>\u001b[0;34m\u001b[0m\n\u001b[1;32m      3\u001b[0m         \u001b[0;34m'Author'\u001b[0m\u001b[0;34m:\u001b[0m\u001b[0mauthorname\u001b[0m\u001b[0;34m,\u001b[0m\u001b[0;34m\u001b[0m\u001b[0;34m\u001b[0m\u001b[0m\n\u001b[1;32m      4\u001b[0m         \u001b[0;34m'PageLink'\u001b[0m\u001b[0;34m:\u001b[0m\u001b[0mpagelinks\u001b[0m\u001b[0;34m,\u001b[0m\u001b[0;34m\u001b[0m\u001b[0;34m\u001b[0m\u001b[0m\n\u001b[0;32m----> 5\u001b[0;31m         \u001b[0;34m'Article'\u001b[0m\u001b[0;34m:\u001b[0m\u001b[0mmyarticle\u001b[0m\u001b[0;34m,\u001b[0m\u001b[0;34m\u001b[0m\u001b[0;34m\u001b[0m\u001b[0m\n\u001b[0m\u001b[1;32m      6\u001b[0m         'Date':datetime.now()}\n\u001b[1;32m      7\u001b[0m \u001b[0moldnews\u001b[0m \u001b[0;34m=\u001b[0m \u001b[0mpd\u001b[0m\u001b[0;34m.\u001b[0m\u001b[0mread_excel\u001b[0m\u001b[0;34m(\u001b[0m\u001b[0;34m'test.xlsx'\u001b[0m\u001b[0;34m)\u001b[0m\u001b[0;34m\u001b[0m\u001b[0;34m\u001b[0m\u001b[0m\n",
      "\u001b[0;31mNameError\u001b[0m: name 'myarticle' is not defined"
     ]
    }
   ],
   "source": [
    "# save article data to file\n",
    "data = {'Title':title, \n",
    "        'Author':authorname, \n",
    "        'PageLink':pagelinks, \n",
    "        'Article':myarticle, \n",
    "        'Date':datetime.now()}\n",
    "oldnews = pd.read_excel('test.xlsx')\n",
    "news = pd.DataFrame(data=data)\n",
    "cols = ['Title', 'Author', 'PageLink', 'Article', 'Date']\n",
    "news = news[cols]\n",
    "afronews = oldnews.append(news)\n",
    "afronews.drop_duplicates(subset='Title', keep='last', inplace=True)\n",
    "afronews.reset_index(inplace=True)\n",
    "afronews.drop(labels='index', axis=1, inplace=True)\n",
    "filename = 'test.xlsx'\n",
    "wks_name = 'Data'\n",
    "writer = pd.ExcelWriter(filename)\n",
    "afronews.to_excel(writer, wks_name, index=False)\n",
    "writer.save()"
   ]
  },
  {
   "cell_type": "code",
   "execution_count": 116,
   "metadata": {},
   "outputs": [
    {
     "name": "stdout",
     "output_type": "stream",
     "text": [
      "Untitled.ipynb\n"
     ]
    }
   ],
   "source": [
    "ls"
   ]
  },
  {
   "cell_type": "code",
   "execution_count": 112,
   "metadata": {},
   "outputs": [
    {
     "data": {
      "text/plain": [
       "{'Title': ['Mogadishu now has its first motorcycle hailing app',\n",
       "  'Ghana is losing its rainforest faster than any other country in the world',\n",
       "  'Des investisseurs providentiels comblent le fossé entre l’Afrique francophone et l’Afrique anglophone',\n",
       "  'These scientists are developing immunotherapies relevant to Africa and beating cancer',\n",
       "  'This tropical getaway has Airbnb’s top occupied listings in Africa'],\n",
       " 'Author': ['Abdi Latif Dahir',\n",
       "  'Kwasi Gyamfi Asiedu',\n",
       "  'Yomi Kazeem',\n",
       "  'Neelakshi Mungra, University of Cape Town',\n",
       "  'Abdi Latif Dahir'],\n",
       " 'PageLink': ['http://qz.com/africa/1609973/somalia-motorycle-hailing-app-go-launched-in-mogadishu/',\n",
       "  'http://qz.com/africa/1609397/rainforest-in-ghana-dr-congo-brazil-colombia-rapidly-depleting/',\n",
       "  'http://qz.com/africa/1609342/vivatech-des-investisseurs-comblent-le-fosse-entre-lafrique-francophone-et-anglophone/',\n",
       "  'http://qz.com/africa/1609532/cancer-immunotherapies-for-africans-can-help-say-scienists/',\n",
       "  'http://qz.com/africa/1608806/reunion-island-tops-airbnb-average-occupancy-in-africa/'],\n",
       " 'Article': ['The increase in digital transportation options comes as life in Mogadishu regains a semblance of normalcy after decades of war. That has led to increased traffic in the city. The city also has a fragmented transportation system, with three-wheeled motorized tuk-tuk and hundreds of dilapidated buses servicing a fast-growing population that currently stands at almost three million people. Getting around African cities like Mogadishu and Nairobi can be demanding given the poor infrastructure, insufficient street addresses, the absence of reliable public transportation, and increasing urbanization that is fueling congestion. As such,\\xa0motorcycle taxis, locally known as moto or boda bodas, have grown over the last few years. Young entrepreneurs like Go! founder Deeq Mohamed says they want to capitalize on that, moving to bring order to the transit system and also create employment opportunities. The idea for the app was in the works since last November but was finally implemented, Deeq adds, after his friend Najib almost missed his wedding in December. When the service was done, he told him, “maybe it’s time you start this moto-hailing service.” The launch is the latest in a\\xa0budding tech ecosystem in Somalia. The country opened its first tech hub in 2017, and e-commerce services have gained wom3 momentum. This has happened despite the fact internet penetration still remains low in Somalia, insecurity remains high, with the lack of a strong government and weak regulatory policies hampering the work of both small and big businesses. Finance is also hard to come by, Deeq says. After taking a personal loan from a local bank, he raised the money for the bikes by crowd-funding from friends whom he expects to pay in the next two years. Deeq hopes to have 50-75 motorcycles on the road by the end of the year. If all goes well after that, “We would like to expand into other Somali cities and hopefully East Africa.”',\n",
       "  'The researchers said in 2002, just Brazil and Indonesia accounted for 71% of the tropical primary forest loss. Though those two countries accounted for 46% of total loss in 2018, loss rates in Africa in particular saw a significant increase. Besides providing habitat for animals including mountain gorillas, trees in rainforests can be “hundreds or even thousands of years old. They store more carbon than other forests and are irreplaceable when it comes to sustaining biodiversity,” says the World Resources Institute which leads the GFW project. For decades, Ghana was one of the leading timber exporters in the world but its forest cover has shrunk significantly over the years leaving timber processors in the country contemplating the importation of lumber from neighboring countries and South America. In a 2016 report [pdf p.3], the Forestry Commission, a government agency, said nearly 80% of Ghana’s forest resources under state management had been lost to illegal logging activity since 1990. While clearing for cocoa farming is a leading cause of deforestation, mining is the biggest threat. Illegal small scale mining, known locally as “galamsey”, has caused massive environmental damage which the government estimates would cost $29 billion to help restore. A ban imposed on all small scale mining activities has now been lifted while an inter-agency committee charged with overseeing adherence to environmental standards has been embroiled in a corruption scandal. The government itself has also come in for criticism. As Quartz Africa has previously reported, local environmentalists fear the 23,000-hectare Atewa Forest Reserve in Ghana’s Eastern Region, will be under threat of deforestation after the government agreed to a $2 billion deal with China to exchange bauxite for infrastructure projects, in the first of many similar ‘resource for roads’ deals to come.  Bauxite mining is especially damaging to forests and has been linked to deforestation in Jamaica, one of the world’s largest bauxite producers.',\n",
       "  'Cette réalité reflète également une corrélation entre les économies nationales et les intérêts des investisseurs, une majorité de pays francophones abritant principalement des économies et des marchés plus modestes. Le Nigéria à lui seul dépasse les 120 millions d’habitants des 15 pays francophones d’Afrique de l’Ouest et du Centre. Seuls le Sénégal et la Côte d’Ivoire figurent régulièrement parmi les économies africaines à croissance rapide, même si cette année, le Bénin et la Guinée font partie des dix pays à plus forte croissance. Rebecca Enonchong, entrepreneure et présidente d’Afrilabs, un réseau de pôles technologiques africains, explique que cette disparité de financement prend racine dans un certain nombre de différences culturelles aussi évidentes que simples. «\\xa0La plupart des publications techniques sont en anglais. Les communiqués de presse en français ont moins de chance d’être lus\\xa0», dit-elle. Mais au-delà de la langue, Enonchong, un entrepreneur en technologie né au Cameroun, affirme que d’autres germes de conflit culturel potentiel existent. «\\xa0Les start-ups francophones ont tendance à être plus formelles et plus longues et peu de journalistes ou d’investisseurs ont la patience de lire des tonnes de pages de documents détaillés pour expliquer une solution\\xa0», dit-elle. «\\xa0Ce formalisme est recherché dans les systèmes éducatifs francophones, c’est une preuve de connaissances et d’expertise. Les créateurs d’entreprise ont donc tendance à reproduire cela dans leurs communications avec les investisseurs et les journalistes.\\xa0» En raison de plusieurs facteurs, «\\xa0les start-ups francophones n’ont généralement pas accès aux mêmes réseaux que ceux de l’Afrique anglophone\\xa0», reconnaît-elle. Tidjane Dème, associé général de Partech Africa, un fonds panafricain de 140 millions de dollars, reconnaît que «\\xa0la barrière de la langue, entre autres facteurs, limite la capacité des investisseurs à accéder aux informations et à participer à ces marchés.\\xa0» Mais cet investisseur né au Sénégal a déclaré que la disparité de financement devrait être envisagée comme problème plus vaste au-delà des pays francophones. «\\xa0Il faut souligner qu’il existe en réalité un problème beaucoup plus vaste, avec seulement trois marchés (Nigeria, Kenya, Afrique du Sud) qui attirent 77\\xa0% des investissements\\xa0», a-t-il déclaré à Quartz Africa. «\\xa0Il s’agit en réalité de trois marchés très visibles qui retiennent l’attention et tous les autres se partagent les miettes. Ainsi, ce qui se passe au Cameroun et en Côte d’Ivoire s’applique actuellement à l’Ouganda et au Ghana.\\xa0» Cependant, cet argument à une faille qui réside dans le fait que, contrairement à ce qui se passe en Afrique francophone, l’intérêt des investisseurs dans les autres pays s’est légèrement accru, au-delà des trois principaux marchés de start-ups de l’année dernière. Comme le note le rapport de Partech Africa, alors que l’intérêt des investisseurs pour la francophonie a ralenti en 2018, les investissements dans le reste du continent ont augmenté «\\xa0aussi vite que les trois plus gros marchés\\xa0» avec 10 nouvelles entreprises amassant onze tours supérieurs ou égaux à 5 millions de dollars en dehors du Kenya, de l’Afrique du Sud et du Nigeria. Les start-ups basées en Afrique francophone ne disposant pas d’un financement suffisant, les investisseurs providentiels locaux interviennent de plus en plus pour combler le déficit. Le réseau Dakar Angels vient de lancer ses opérations (et a déjà effectué son premier investissement dans une start-up ivoirienne) dans le but de faire au moins quatre investissements dans des start-ups basées en Afrique francophone chaque année. Des groupes d’investisseurs providentiels similaires ont également été créés au Bénin et au Togo, qui cherchent à égaler leurs homologues plus établis, tels que le Réseau des anges de Lagos, le plus actif d’Afrique. Dans les marchés francophones plus petits où les start-ups pourraient autrement être négligées, les réseaux émergents d’investisseurs comblent un vide important dans le cycle d’investissement des start-ups, car ils peuvent offrir aux fondateurs un financement de démarrage pour prouver leur potentiel de croissance et éventuellement attirer de plus gros investisseurs. Certains investisseurs institutionnels découvrent également une large opportunité économique dans le déficit de financement, même au-delà des start-ups en particulier. Le mois dernier, la Banque africaine de développement (BAD) a approuvé un investissement de 14 millions de dollars dans Adiwale Fund 1, un fonds d’investissement privé destiné aux PME à forte croissance en Afrique de l’Ouest francophone. Le fonds (avec un objectif de 84,5 millions de dollars) investira dans des entreprises de service au grand public et de service aux entreprises, ainsi que dans des pays «\\xa0actuellement sous-desservis\\xa0» par le marché mondial du capital-investissement, indique la BAD. Enonchong dit qu’il y a également un nombre croissant d’entreprises de capital-risque qui examinent de plus près les start-ups basées en Afrique francophone.\\xa0«\\xa0Même si elles n’investissent pas exclusivement dans ces start-ups francophones, elles peuvent au moins mieux communiquer avec elles et en voir la valeur\\xa0», dit-elle. Une des entreprises les plus en vue dans cette catégorie est Partech Africa, qui a lancé son fonds au début de l’année dernière dans l’idée de se concentrer davantage sur l’Afrique francophone. Jusqu’à présent cependant, les trois contrats confirmés de la société basée à Dakar ont été des investissements dans des start-ups basées au Nigeria et en Afrique du Sud. Dème affirme cependant que cette tendance va changer. «\\xa0Nous sommes certainement plus exposés à cette région que de nombreuses équipes d’investissement. Cela se reflète déjà aujourd’hui dans le flux de nos transactions et nous sommes impatients de conclure des accords dans la région\\xa0», a-t-il déclaré à Quartz Africa. «\\xa0Nous commençons tout juste à construire notre portefeuille et celui-ci sera sûrement très différent par la suite.\\xa0» Inscrivez-vous au bulletin hebdomadaire Quartz Africa ici pour recevoir des nouvelles et des analyses sur les entreprises, les technologies et l’innovation africaines dans votre boîte de réception.',\n",
       "  'For developing countries like South Africa, finding immunotherapy solutions is particularly important given the country’s weak health system and the high cost of cancer drugs. The University of Cape Town has set up the country’s first medical biotechnology-based immunotherapy laboratory. The lab, where we do our research, is strongly committed to the development of novel therapeutic and diagnostic tools for cancer. Most cancer research has been done on populations of European descent. This means that there’s minimal data on African populations. Our lab aims to fill this knowledge gap by diagnosing and treating patients of African descent. The aim is to identify immunotherapy targets in this underrepresented population. There are five main classes of immunotherapies. These are: Antibodies are like puzzle pieces – and diseases are like an incomplete puzzle. Therefore, only antibodies with a specific shape will fit into the “cancer puzzle”. Antibodies with other shapes would fit other puzzles, but not cancer. The ability of antibodies to discriminate between different cells and diseases is the basis for antibody-based immunotherapies. Our current research involves attaching a light detectable agent to the puzzle piece. This allows us to visualise where a cancer cell is located in a cancer patient’s tissues. We can characterise different types of cancer cells by attaching different coloured light detectable agents to different antibodies. We then generate antibody-drug conjugates that deliver the drug directly to the cancer without harming healthy cells by replacing the light detectable agent on a cancer-fitting antibody with a toxic drug. Preliminary research from around the world indicates that immunotherapies for cancer are less toxic than conventional therapies like chemotherapy and radiation. They also have the potential for fewer and less severe side effects. This means that immunotherapies could improve patients’ quality of life. Immunotherapies are effective, safe and relatively easy to manufacture. But they aren’t a standalone wonder drug that can bring about the end of cancer. A multi-pronged approach that involves a combination of the best treatment options has been heralded as the next wave of therapeutic strategies for cancer and may provide a curative treatment. Neelakshi Mungra, PhD Candidate at the MB&I Unit, University of Cape Town; Krupa Naran, Postdoctoral Research Fellow, Institute of Infectious Diseases and Molecular Medicine, University of Cape Town, and Trishana Nundalall, PhD Candidate at the MB&I Unit',\n",
       "  'Réunion island, located between Mauritius and Madagascar off the coast of East Africa, is not even a sovereign nation as such but one of four overseas departments of France. With a population under one million, the island became a French colony in the 17th century with slaves brought in from East Africa to work on coffee plantations. Following the abolition of slavery in the mid 19th century, indentured workers were also brought in from India and Asia to work on the sugar plantations. In 1946, the territory became a self-governing department of France and became a full-on French region in 1974. French president Emmanuel Macron is currently the head of state, and Paris has the headquarters of its military forces in the Indian Ocean based out of the island. Besides sugar, Réunion relies on tourism to boost its over $22 billion economy. The island markets itself as a melting pot that showcases the intersection of European, African, and Asian cultures. Tourists can also visit marine reserves aimed at repopulating coral reefs and protecting up to 3,500 species. In 2010, UNESCO included the island’s volcanic peaks and ramparts in its list of natural World Heritage Sites. The Piton de la Fournaise, one of the most active volcanoes on the planet, attracts tourists particularly as it gains ground on the ocean during certain lava flows. In total, more than 550,000 tourists arrived on the island in 2017, according to the World Tourism Organization. As per the Airbnb data, most of the short-term renters are drawn to the L’Ermitage commune located west of the island. Occupancy numbers were also high in Saint-Leu, which has hosted major surfing and paragliding competitions. Listings at the L’Etang-Sale locale, which has a volcanic black sand beach, also stood at 57% between March 2018 and February 2019. The Saint-Andre commune in the northeastern part of the department also has the highest growth in supply (161%) and the highest growth in demand (133%) when it comes to Airbnb rentals. Even with its lead in average occupancy, Réunion still can’t beat markets like South Africa which has both the highest active listings and top Airbnb revenues in Africa.'],\n",
       " 'Date': datetime.datetime(2019, 5, 4, 17, 23, 0, 638326)}"
      ]
     },
     "execution_count": 112,
     "metadata": {},
     "output_type": "execute_result"
    }
   ],
   "source": [
    "data = {'Title':title, \n",
    "        'Author':authorname, \n",
    "        'PageLink':pagelinks, \n",
    "        'Article':myarticle, \n",
    "        'Date':datetime.now()}\n",
    "data"
   ]
  },
  {
   "cell_type": "code",
   "execution_count": 104,
   "metadata": {},
   "outputs": [
    {
     "ename": "FileNotFoundError",
     "evalue": "[Errno 2] No such file or directory: 'quartz\\\\news.xlsx'",
     "output_type": "error",
     "traceback": [
      "\u001b[0;31m---------------------------------------------------------------------------\u001b[0m",
      "\u001b[0;31mFileNotFoundError\u001b[0m                         Traceback (most recent call last)",
      "\u001b[0;32m<ipython-input-104-7f9197a9eeda>\u001b[0m in \u001b[0;36m<module>\u001b[0;34m\u001b[0m\n\u001b[1;32m     66\u001b[0m         'Date':datetime.now()}\n\u001b[1;32m     67\u001b[0m \u001b[0;34m\u001b[0m\u001b[0m\n\u001b[0;32m---> 68\u001b[0;31m \u001b[0moldnews\u001b[0m \u001b[0;34m=\u001b[0m \u001b[0mpd\u001b[0m\u001b[0;34m.\u001b[0m\u001b[0mread_excel\u001b[0m\u001b[0;34m(\u001b[0m\u001b[0;34m'quartz\\\\news.xlsx'\u001b[0m\u001b[0;34m)\u001b[0m\u001b[0;34m\u001b[0m\u001b[0;34m\u001b[0m\u001b[0m\n\u001b[0m\u001b[1;32m     69\u001b[0m \u001b[0mnews\u001b[0m \u001b[0;34m=\u001b[0m \u001b[0mpd\u001b[0m\u001b[0;34m.\u001b[0m\u001b[0mDataFrame\u001b[0m\u001b[0;34m(\u001b[0m\u001b[0mdata\u001b[0m\u001b[0;34m=\u001b[0m\u001b[0mdata\u001b[0m\u001b[0;34m)\u001b[0m\u001b[0;34m\u001b[0m\u001b[0;34m\u001b[0m\u001b[0m\n\u001b[1;32m     70\u001b[0m \u001b[0mcols\u001b[0m \u001b[0;34m=\u001b[0m \u001b[0;34m[\u001b[0m\u001b[0;34m'Title'\u001b[0m\u001b[0;34m,\u001b[0m \u001b[0;34m'Author'\u001b[0m\u001b[0;34m,\u001b[0m \u001b[0;34m'PageLink'\u001b[0m\u001b[0;34m,\u001b[0m \u001b[0;34m'Article'\u001b[0m\u001b[0;34m,\u001b[0m \u001b[0;34m'Date'\u001b[0m\u001b[0;34m]\u001b[0m\u001b[0;34m\u001b[0m\u001b[0;34m\u001b[0m\u001b[0m\n",
      "\u001b[0;32m~/app/miniconda3/envs/scraping/lib/python3.7/site-packages/pandas/util/_decorators.py\u001b[0m in \u001b[0;36mwrapper\u001b[0;34m(*args, **kwargs)\u001b[0m\n\u001b[1;32m    186\u001b[0m                 \u001b[0;32melse\u001b[0m\u001b[0;34m:\u001b[0m\u001b[0;34m\u001b[0m\u001b[0;34m\u001b[0m\u001b[0m\n\u001b[1;32m    187\u001b[0m                     \u001b[0mkwargs\u001b[0m\u001b[0;34m[\u001b[0m\u001b[0mnew_arg_name\u001b[0m\u001b[0;34m]\u001b[0m \u001b[0;34m=\u001b[0m \u001b[0mnew_arg_value\u001b[0m\u001b[0;34m\u001b[0m\u001b[0;34m\u001b[0m\u001b[0m\n\u001b[0;32m--> 188\u001b[0;31m             \u001b[0;32mreturn\u001b[0m \u001b[0mfunc\u001b[0m\u001b[0;34m(\u001b[0m\u001b[0;34m*\u001b[0m\u001b[0margs\u001b[0m\u001b[0;34m,\u001b[0m \u001b[0;34m**\u001b[0m\u001b[0mkwargs\u001b[0m\u001b[0;34m)\u001b[0m\u001b[0;34m\u001b[0m\u001b[0;34m\u001b[0m\u001b[0m\n\u001b[0m\u001b[1;32m    189\u001b[0m         \u001b[0;32mreturn\u001b[0m \u001b[0mwrapper\u001b[0m\u001b[0;34m\u001b[0m\u001b[0;34m\u001b[0m\u001b[0m\n\u001b[1;32m    190\u001b[0m     \u001b[0;32mreturn\u001b[0m \u001b[0m_deprecate_kwarg\u001b[0m\u001b[0;34m\u001b[0m\u001b[0;34m\u001b[0m\u001b[0m\n",
      "\u001b[0;32m~/app/miniconda3/envs/scraping/lib/python3.7/site-packages/pandas/util/_decorators.py\u001b[0m in \u001b[0;36mwrapper\u001b[0;34m(*args, **kwargs)\u001b[0m\n\u001b[1;32m    186\u001b[0m                 \u001b[0;32melse\u001b[0m\u001b[0;34m:\u001b[0m\u001b[0;34m\u001b[0m\u001b[0;34m\u001b[0m\u001b[0m\n\u001b[1;32m    187\u001b[0m                     \u001b[0mkwargs\u001b[0m\u001b[0;34m[\u001b[0m\u001b[0mnew_arg_name\u001b[0m\u001b[0;34m]\u001b[0m \u001b[0;34m=\u001b[0m \u001b[0mnew_arg_value\u001b[0m\u001b[0;34m\u001b[0m\u001b[0;34m\u001b[0m\u001b[0m\n\u001b[0;32m--> 188\u001b[0;31m             \u001b[0;32mreturn\u001b[0m \u001b[0mfunc\u001b[0m\u001b[0;34m(\u001b[0m\u001b[0;34m*\u001b[0m\u001b[0margs\u001b[0m\u001b[0;34m,\u001b[0m \u001b[0;34m**\u001b[0m\u001b[0mkwargs\u001b[0m\u001b[0;34m)\u001b[0m\u001b[0;34m\u001b[0m\u001b[0;34m\u001b[0m\u001b[0m\n\u001b[0m\u001b[1;32m    189\u001b[0m         \u001b[0;32mreturn\u001b[0m \u001b[0mwrapper\u001b[0m\u001b[0;34m\u001b[0m\u001b[0;34m\u001b[0m\u001b[0m\n\u001b[1;32m    190\u001b[0m     \u001b[0;32mreturn\u001b[0m \u001b[0m_deprecate_kwarg\u001b[0m\u001b[0;34m\u001b[0m\u001b[0;34m\u001b[0m\u001b[0m\n",
      "\u001b[0;32m~/app/miniconda3/envs/scraping/lib/python3.7/site-packages/pandas/io/excel.py\u001b[0m in \u001b[0;36mread_excel\u001b[0;34m(io, sheet_name, header, names, index_col, parse_cols, usecols, squeeze, dtype, engine, converters, true_values, false_values, skiprows, nrows, na_values, keep_default_na, verbose, parse_dates, date_parser, thousands, comment, skip_footer, skipfooter, convert_float, mangle_dupe_cols, **kwds)\u001b[0m\n\u001b[1;32m    348\u001b[0m \u001b[0;34m\u001b[0m\u001b[0m\n\u001b[1;32m    349\u001b[0m     \u001b[0;32mif\u001b[0m \u001b[0;32mnot\u001b[0m \u001b[0misinstance\u001b[0m\u001b[0;34m(\u001b[0m\u001b[0mio\u001b[0m\u001b[0;34m,\u001b[0m \u001b[0mExcelFile\u001b[0m\u001b[0;34m)\u001b[0m\u001b[0;34m:\u001b[0m\u001b[0;34m\u001b[0m\u001b[0;34m\u001b[0m\u001b[0m\n\u001b[0;32m--> 350\u001b[0;31m         \u001b[0mio\u001b[0m \u001b[0;34m=\u001b[0m \u001b[0mExcelFile\u001b[0m\u001b[0;34m(\u001b[0m\u001b[0mio\u001b[0m\u001b[0;34m,\u001b[0m \u001b[0mengine\u001b[0m\u001b[0;34m=\u001b[0m\u001b[0mengine\u001b[0m\u001b[0;34m)\u001b[0m\u001b[0;34m\u001b[0m\u001b[0;34m\u001b[0m\u001b[0m\n\u001b[0m\u001b[1;32m    351\u001b[0m \u001b[0;34m\u001b[0m\u001b[0m\n\u001b[1;32m    352\u001b[0m     return io.parse(\n",
      "\u001b[0;32m~/app/miniconda3/envs/scraping/lib/python3.7/site-packages/pandas/io/excel.py\u001b[0m in \u001b[0;36m__init__\u001b[0;34m(self, io, engine)\u001b[0m\n\u001b[1;32m    651\u001b[0m         \u001b[0mself\u001b[0m\u001b[0;34m.\u001b[0m\u001b[0m_io\u001b[0m \u001b[0;34m=\u001b[0m \u001b[0m_stringify_path\u001b[0m\u001b[0;34m(\u001b[0m\u001b[0mio\u001b[0m\u001b[0;34m)\u001b[0m\u001b[0;34m\u001b[0m\u001b[0;34m\u001b[0m\u001b[0m\n\u001b[1;32m    652\u001b[0m \u001b[0;34m\u001b[0m\u001b[0m\n\u001b[0;32m--> 653\u001b[0;31m         \u001b[0mself\u001b[0m\u001b[0;34m.\u001b[0m\u001b[0m_reader\u001b[0m \u001b[0;34m=\u001b[0m \u001b[0mself\u001b[0m\u001b[0;34m.\u001b[0m\u001b[0m_engines\u001b[0m\u001b[0;34m[\u001b[0m\u001b[0mengine\u001b[0m\u001b[0;34m]\u001b[0m\u001b[0;34m(\u001b[0m\u001b[0mself\u001b[0m\u001b[0;34m.\u001b[0m\u001b[0m_io\u001b[0m\u001b[0;34m)\u001b[0m\u001b[0;34m\u001b[0m\u001b[0;34m\u001b[0m\u001b[0m\n\u001b[0m\u001b[1;32m    654\u001b[0m \u001b[0;34m\u001b[0m\u001b[0m\n\u001b[1;32m    655\u001b[0m     \u001b[0;32mdef\u001b[0m \u001b[0m__fspath__\u001b[0m\u001b[0;34m(\u001b[0m\u001b[0mself\u001b[0m\u001b[0;34m)\u001b[0m\u001b[0;34m:\u001b[0m\u001b[0;34m\u001b[0m\u001b[0;34m\u001b[0m\u001b[0m\n",
      "\u001b[0;32m~/app/miniconda3/envs/scraping/lib/python3.7/site-packages/pandas/io/excel.py\u001b[0m in \u001b[0;36m__init__\u001b[0;34m(self, filepath_or_buffer)\u001b[0m\n\u001b[1;32m    422\u001b[0m             \u001b[0mself\u001b[0m\u001b[0;34m.\u001b[0m\u001b[0mbook\u001b[0m \u001b[0;34m=\u001b[0m \u001b[0mxlrd\u001b[0m\u001b[0;34m.\u001b[0m\u001b[0mopen_workbook\u001b[0m\u001b[0;34m(\u001b[0m\u001b[0mfile_contents\u001b[0m\u001b[0;34m=\u001b[0m\u001b[0mdata\u001b[0m\u001b[0;34m)\u001b[0m\u001b[0;34m\u001b[0m\u001b[0;34m\u001b[0m\u001b[0m\n\u001b[1;32m    423\u001b[0m         \u001b[0;32melif\u001b[0m \u001b[0misinstance\u001b[0m\u001b[0;34m(\u001b[0m\u001b[0mfilepath_or_buffer\u001b[0m\u001b[0;34m,\u001b[0m \u001b[0mcompat\u001b[0m\u001b[0;34m.\u001b[0m\u001b[0mstring_types\u001b[0m\u001b[0;34m)\u001b[0m\u001b[0;34m:\u001b[0m\u001b[0;34m\u001b[0m\u001b[0;34m\u001b[0m\u001b[0m\n\u001b[0;32m--> 424\u001b[0;31m             \u001b[0mself\u001b[0m\u001b[0;34m.\u001b[0m\u001b[0mbook\u001b[0m \u001b[0;34m=\u001b[0m \u001b[0mxlrd\u001b[0m\u001b[0;34m.\u001b[0m\u001b[0mopen_workbook\u001b[0m\u001b[0;34m(\u001b[0m\u001b[0mfilepath_or_buffer\u001b[0m\u001b[0;34m)\u001b[0m\u001b[0;34m\u001b[0m\u001b[0;34m\u001b[0m\u001b[0m\n\u001b[0m\u001b[1;32m    425\u001b[0m         \u001b[0;32melse\u001b[0m\u001b[0;34m:\u001b[0m\u001b[0;34m\u001b[0m\u001b[0;34m\u001b[0m\u001b[0m\n\u001b[1;32m    426\u001b[0m             raise ValueError('Must explicitly set engine if not passing in'\n",
      "\u001b[0;32m~/app/miniconda3/envs/scraping/lib/python3.7/site-packages/xlrd/__init__.py\u001b[0m in \u001b[0;36mopen_workbook\u001b[0;34m(filename, logfile, verbosity, use_mmap, file_contents, encoding_override, formatting_info, on_demand, ragged_rows)\u001b[0m\n\u001b[1;32m    109\u001b[0m     \u001b[0;32melse\u001b[0m\u001b[0;34m:\u001b[0m\u001b[0;34m\u001b[0m\u001b[0;34m\u001b[0m\u001b[0m\n\u001b[1;32m    110\u001b[0m         \u001b[0mfilename\u001b[0m \u001b[0;34m=\u001b[0m \u001b[0mos\u001b[0m\u001b[0;34m.\u001b[0m\u001b[0mpath\u001b[0m\u001b[0;34m.\u001b[0m\u001b[0mexpanduser\u001b[0m\u001b[0;34m(\u001b[0m\u001b[0mfilename\u001b[0m\u001b[0;34m)\u001b[0m\u001b[0;34m\u001b[0m\u001b[0;34m\u001b[0m\u001b[0m\n\u001b[0;32m--> 111\u001b[0;31m         \u001b[0;32mwith\u001b[0m \u001b[0mopen\u001b[0m\u001b[0;34m(\u001b[0m\u001b[0mfilename\u001b[0m\u001b[0;34m,\u001b[0m \u001b[0;34m\"rb\"\u001b[0m\u001b[0;34m)\u001b[0m \u001b[0;32mas\u001b[0m \u001b[0mf\u001b[0m\u001b[0;34m:\u001b[0m\u001b[0;34m\u001b[0m\u001b[0;34m\u001b[0m\u001b[0m\n\u001b[0m\u001b[1;32m    112\u001b[0m             \u001b[0mpeek\u001b[0m \u001b[0;34m=\u001b[0m \u001b[0mf\u001b[0m\u001b[0;34m.\u001b[0m\u001b[0mread\u001b[0m\u001b[0;34m(\u001b[0m\u001b[0mpeeksz\u001b[0m\u001b[0;34m)\u001b[0m\u001b[0;34m\u001b[0m\u001b[0;34m\u001b[0m\u001b[0m\n\u001b[1;32m    113\u001b[0m     \u001b[0;32mif\u001b[0m \u001b[0mpeek\u001b[0m \u001b[0;34m==\u001b[0m \u001b[0;34mb\"PK\\x03\\x04\"\u001b[0m\u001b[0;34m:\u001b[0m \u001b[0;31m# a ZIP file\u001b[0m\u001b[0;34m\u001b[0m\u001b[0;34m\u001b[0m\u001b[0m\n",
      "\u001b[0;31mFileNotFoundError\u001b[0m: [Errno 2] No such file or directory: 'quartz\\\\news.xlsx'"
     ]
    }
   ],
   "source": [
    "\n",
    "\n",
    "import requests\n",
    "from bs4 import BeautifulSoup\n",
    "\n",
    "import time\n",
    "\n",
    "import pandas as pd\n",
    "import numpy as np\n",
    "from datetime import datetime\n",
    "\n",
    "page = requests.get('https://qz.com/africa/latest')\n",
    "\n",
    "soup = BeautifulSoup(page.content, 'html.parser')\n",
    "weblinks = soup.find_all('article')\n",
    "\n",
    "pagelinks = []\n",
    "for link in weblinks[5:]:\n",
    "    url = link.contents[0].find_all('a')[0]\n",
    "    pagelinks.append('http://qz.com'+url.get('href'))\n",
    "\n",
    "authorname = []\n",
    "title = []\n",
    "thearticle = []\n",
    "for link in pagelinks:    \n",
    "    # store the text for each article\n",
    "    paragraphtext = []    \n",
    "    # get url\n",
    "    url = link\n",
    "    # get page text\n",
    "    page = requests.get(url)\n",
    "    # parse with BFS\n",
    "    soup = BeautifulSoup(page.text, 'html.parser')    \n",
    "    # get author name, if there's a named author\n",
    "    try:\n",
    "        abody = soup.find(class_='d3284 africa').find('a')\n",
    "        aname = abody.get_text() \n",
    "    except:\n",
    "        aname = 'Anonymous'    \n",
    "\n",
    "    # get article title\n",
    "    atitle = soup.find(class_=\"_21349 africa none _4ca8e\")\n",
    "    thetitle = atitle.get_text() \n",
    "    # get main article page\n",
    "    articlebody = soup.find(class_='_61c55')\n",
    "    # get text\n",
    "    articletext = soup.find_all('p')[8:]\n",
    "    # print text\n",
    "    for paragraph in articletext[:-1]:\n",
    "        # get the text only\n",
    "        text = paragraph.get_text()\n",
    "        paragraphtext.append(text)        \n",
    "    # combine all paragraphs into an article\n",
    "    thearticle.append(paragraphtext)\n",
    "    authorname.append(aname)\n",
    "    title.append(thetitle)\n",
    "\n",
    "# join paragraphs to re-create the article\n",
    "myarticle = [' '.join(article) for article in thearticle]\n",
    "\n",
    "# save article data to file\n",
    "data = {'Title':title, \n",
    "        'Author':authorname, \n",
    "        'PageLink':pagelinks, \n",
    "        'Article':myarticle, \n",
    "        'Date':datetime.now()}\n",
    "\n",
    "oldnews = pd.read_excel('quartz\\\\news.xlsx')\n",
    "news = pd.DataFrame(data=data)\n",
    "cols = ['Title', 'Author', 'PageLink', 'Article', 'Date']\n",
    "news = news[cols]\n",
    "\n",
    "afronews = oldnews.append(news)\n",
    "afronews.drop_duplicates(subset='Title', keep='last', inplace=True)\n",
    "afronews.reset_index(inplace=True)\n",
    "afronews.drop(labels='index', axis=1, inplace=True)\n",
    "\n",
    "filename = 'quartz\\\\news.xlsx'\n",
    "wks_name = 'Data'\n",
    "\n",
    "writer = pd.ExcelWriter(filename)\n",
    "afronews.to_excel(writer, wks_name, index=False)\n",
    "\n",
    "writer.save()"
   ]
  },
  {
   "cell_type": "code",
   "execution_count": null,
   "metadata": {},
   "outputs": [],
   "source": []
  }
 ],
 "metadata": {
  "kernelspec": {
   "display_name": "Python 3",
   "language": "python",
   "name": "python3"
  },
  "language_info": {
   "codemirror_mode": {
    "name": "ipython",
    "version": 3
   },
   "file_extension": ".py",
   "mimetype": "text/x-python",
   "name": "python",
   "nbconvert_exporter": "python",
   "pygments_lexer": "ipython3",
   "version": "3.7.8"
  }
 },
 "nbformat": 4,
 "nbformat_minor": 4
}
